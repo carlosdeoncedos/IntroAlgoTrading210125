{
 "cells": [
  {
   "cell_type": "markdown",
   "metadata": {
    "slideshow": {
     "slide_type": "slide"
    }
   },
   "source": [
    "## <font color='navy'>INTRODUCCION ALGOTRADING CON PYTHON</font>\n",
    "<font color='navygray'>Por Carlos Crespo Elizondo</font><br>\n",
    "<font color='navygray'>Enero 25, 2021</font>"
   ]
  },
  {
   "cell_type": "markdown",
   "metadata": {
    "slideshow": {
     "slide_type": "slide"
    }
   },
   "source": [
    "## <font color='navy'>Objetivos del módulo I</font>\n",
    "Al finalizar el módulo I, seremos capaces de entender y programar utilizando las funciones básicas de Python y las estructuras nativas de datos."
   ]
  },
  {
   "cell_type": "markdown",
   "metadata": {
    "slideshow": {
     "slide_type": "slide"
    }
   },
   "source": [
    "## <font color='navy'>Sobre Python</font>"
   ]
  },
  {
   "cell_type": "markdown",
   "metadata": {
    "slideshow": {
     "slide_type": "subslide"
    }
   },
   "source": [
    "Python es un programa de computación de uso general y de código abierto.  Fue creado en 1991 por Guido van Rossum.\n",
    "\n",
    "<center><img src=\"https://drive.google.com/uc?export=view&id=1-PE_j1tiHTlm6pb7flt1TMxmawrHzJNo\" style=\"height:300px\">\n",
    "    \n"
   ]
  },
  {
   "cell_type": "markdown",
   "metadata": {
    "slideshow": {
     "slide_type": "subslide"
    }
   },
   "source": [
    "Python se ha convertido en uno de los lenguajes de programación más utilizados en el mundo.\n",
    "<center><img src=\"https://drive.google.com/uc?export=view&id=1MWTngDSVOWiTp7ycl-Dbpacd6eY9R-5F\" width=\"450\">\n",
    "    \n"
   ]
  },
  {
   "cell_type": "markdown",
   "metadata": {
    "slideshow": {
     "slide_type": "fragment"
    }
   },
   "source": [
    "<table>\n",
    "    <tr>\n",
    "        <td><img src=\"../../Pictures/logo_java.png\" width=\"150\"></td>\n",
    "        <td><img src=\"../../Pictures/logo_cplus.png\" width=\"150\"></td>\n",
    "    </tr>\n",
    "</table>"
   ]
  },
  {
   "cell_type": "markdown",
   "metadata": {
    "slideshow": {
     "slide_type": "subslide"
    }
   },
   "source": [
    "Una parte integral en el desarrollo de Python son las comunidades de voluntarios enfocados en crear librerías para aplicaciones específicas."
   ]
  },
  {
   "cell_type": "markdown",
   "metadata": {
    "slideshow": {
     "slide_type": "fragment"
    }
   },
   "source": [
    "<center><img src=\"../../Pictures/Python libraries.png\" width=\"700\">"
   ]
  },
  {
   "cell_type": "markdown",
   "metadata": {
    "slideshow": {
     "slide_type": "subslide"
    }
   },
   "source": [
    "Estas comunidades se organizan y de manera gratuita desarrollan, corrigen y actualizan las librerías.<br><br>\n",
    "<center><img src=\"../../Pictures/SciPy2018-1.jpg\" width=\"500\"><br><br>\n",
    "<center><img src=\"../../Pictures/SciPy2018.png\" width=\"250\">\n"
   ]
  },
  {
   "cell_type": "markdown",
   "metadata": {
    "slideshow": {
     "slide_type": "subslide"
    }
   },
   "source": [
    "Con el desarrollo de estas librerías, Python se abrió paso también entre los programas dedicados al análisis de datos.\n",
    "<center><img src=\"../../Pictures/logo_matlab.jpg\" width=\"300\">\n",
    "<center><img src=\"../../Pictures/logo_sas.jpg\" width=\"200\"><br>\n",
    "<center><img src=\"../../Pictures/logo_stata.png\" width=\"200\">"
   ]
  },
  {
   "cell_type": "markdown",
   "metadata": {
    "slideshow": {
     "slide_type": "subslide"
    }
   },
   "source": [
    "Al grado que entre Python y R, dos programas de código abierto (gratis),<br>\n",
    "<center><img src=\"../../Pictures/logo_python.jpg\" width=\"200\"> \n",
    "<center><img src=\"../../Pictures/logo_r.jpg\" width=\"100\">\n",
    "    \n",
    "<left>desplazaron al más \"grande\" de todos los programas de análisis de datos: \n",
    "\n",
    "<center><img src=\"../../Pictures/logo_matlab.jpg\" width=\"300\">"
   ]
  },
  {
   "cell_type": "markdown",
   "metadata": {
    "slideshow": {
     "slide_type": "subslide"
    }
   },
   "source": [
    "Hace 10 años, el programa por excelencia para el análisis estadístico de datos, en el mundo de las finanzas era MATLAB.  PERO tenía dos problemas:\n",
    "1. _Las licencias eran extremadamente caras_\n",
    "2. _Era un programa matemático._\n",
    "\n",
    "<center><img src=\"../../Pictures/logo_matlab.jpg\" width=\"300\">"
   ]
  },
  {
   "cell_type": "markdown",
   "metadata": {
    "slideshow": {
     "slide_type": "subslide"
    }
   },
   "source": [
    "Y es precisamente en esos dos puntos, que R empezó a desplasar a MatLab, pues sus licencias eran gratis, pero sobre todo, R era un desarrollo estadístico.  Esta sutil pero gran diferencia, convirtió a R en una herramienta más poderosa para el mundo financiero que MatLab.<br><br>\n",
    "<center><img src=\"../../Pictures/logo_r.jpg\" width=\"100\">"
   ]
  },
  {
   "cell_type": "markdown",
   "metadata": {
    "slideshow": {
     "slide_type": "subslide"
    }
   },
   "source": [
    "La combinación de que Python es un lenguaje de computación junto con las librerías PANDAS, NUMPY, MATPLOTLIB junto con IPython/Jupyter Notebook, hizo que Python se sobrepusiera a R como el paquete/lenguaje de computación por default en el mundo financiero así como en la comunidad científica, etc."
   ]
  },
  {
   "cell_type": "markdown",
   "metadata": {
    "slideshow": {
     "slide_type": "subslide"
    }
   },
   "source": [
    "<img src=\"../../Pictures/logo_python.jpg\" width=\"150\"/>\n",
    "Python está considerado como uno de los mejores programas para aprender programación.\n",
    "<br><br>\n",
    "Pero no nos confundamos, el echo que sea un lenguaje computacional fácil de aprender, no significa que es un programa con pocas capacidades técnicas.  "
   ]
  },
  {
   "cell_type": "markdown",
   "metadata": {
    "slideshow": {
     "slide_type": "subslide"
    }
   },
   "source": [
    "Las siguientes plataformas se dieñaron y ejecutaron en Python:\n",
    "\n",
    "<center><img src=\"../../Pictures/logo_youtube.png\" width=\"250\">\n",
    "<center><img src=\"../../Pictures/logo_instagram.png\" width=\"80\">\n",
    "<center><img src=\"../../Pictures/logo_spotify.png\" width=\"80\">"
   ]
  },
  {
   "cell_type": "markdown",
   "metadata": {
    "slideshow": {
     "slide_type": "slide"
    }
   },
   "source": [
    "## <font color='navy'>Sobre Jupyter Notebook</font>\n",
    "<center><img src=\"../../Pictures/Jupyter.png\" width=\"250\">"
   ]
  },
  {
   "cell_type": "markdown",
   "metadata": {
    "slideshow": {
     "slide_type": "subslide"
    }
   },
   "source": [
    "IPython se desarrolló en el 2001 y desde entonces se ha convertido en una de las herramientas más importantes del arsenal de Python. Está diseñado para maximizar la productividad del usuario.\n",
    "<center><img src=\"../../Pictures/logo_ipython.png\" width=\"200\">"
   ]
  },
  {
   "cell_type": "markdown",
   "metadata": {
    "slideshow": {
     "slide_type": "subslide"
    }
   },
   "source": [
    "Permite un flujo de __ejecutar-explorar__ muy diferente a la programación tradicional __editar-compilar-ejecutar__.\n",
    "<center><img src=\"../../Pictures/logo_ipython.png\" width=\"200\">"
   ]
  },
  {
   "cell_type": "markdown",
   "metadata": {
    "slideshow": {
     "slide_type": "subslide"
    }
   },
   "source": [
    "<center><img src=\"../../Pictures/Ipython.png\" width=\"950\">"
   ]
  },
  {
   "cell_type": "markdown",
   "metadata": {
    "slideshow": {
     "slide_type": "subslide"
    }
   },
   "source": [
    "Jupyter Notebook es la plataforma que utilizaremos para Python.  Jupyter es preferido por la comunidad científica y académica sobre compiladores \"comunes\", por su facilidad de poder documentar, explicar y sobre todo analizar los avances sin la necesidad de vernos obligados en terminar de programar antes de ver resultados.\n",
    "\n",
    "<center><img src=\"../../Pictures/Jupyter.png\" width=\"250\">"
   ]
  },
  {
   "cell_type": "markdown",
   "metadata": {
    "slideshow": {
     "slide_type": "slide"
    }
   },
   "source": [
    "# <font color='red'>Fin de la presentación</font>"
   ]
  },
  {
   "cell_type": "markdown",
   "metadata": {
    "slideshow": {
     "slide_type": "subslide"
    }
   },
   "source": [
    "La mejor manera de aprender algo es practicando, vamos a ver que es y como funciona Jupyter Notebook"
   ]
  },
  {
   "cell_type": "markdown",
   "metadata": {
    "slideshow": {
     "slide_type": "-"
    }
   },
   "source": [
    "## <font color='navygray'>Empezamos con Python</font>"
   ]
  },
  {
   "cell_type": "markdown",
   "metadata": {
    "slideshow": {
     "slide_type": "-"
    }
   },
   "source": [
    "###  <font color='navygray'>Función *\"print(  )\"*</font>"
   ]
  },
  {
   "cell_type": "markdown",
   "metadata": {
    "slideshow": {
     "slide_type": "-"
    }
   },
   "source": [
    "Por convención en el mundo de la programación, al aprender un lenguaje nuevo, el primer comando que\n",
    "hacemos es imprimir en la pantalla la frase \"Hello World\"."
   ]
  },
  {
   "cell_type": "code",
   "execution_count": null,
   "metadata": {
    "slideshow": {
     "slide_type": "-"
    }
   },
   "outputs": [],
   "source": [
    "print('Hello world!')"
   ]
  },
  {
   "cell_type": "markdown",
   "metadata": {
    "slideshow": {
     "slide_type": "-"
    }
   },
   "source": [
    "###  <font color='navygray'>Declarar texto en Python</font>"
   ]
  },
  {
   "cell_type": "markdown",
   "metadata": {
    "slideshow": {
     "slide_type": "-"
    }
   },
   "source": [
    "Para declarar texto lo debemos de poner entre comillas ' o \".  Esta dualidad es muy útil, por que nos permite escribir:\n",
    "* La distancia es 2\"\n",
    "* Vamos al Carl's Jr."
   ]
  },
  {
   "cell_type": "markdown",
   "metadata": {
    "slideshow": {
     "slide_type": "-"
    }
   },
   "source": [
    "####  <font color='gray'>Ejemplo:</font>"
   ]
  },
  {
   "cell_type": "code",
   "execution_count": null,
   "metadata": {
    "slideshow": {
     "slide_type": "-"
    }
   },
   "outputs": [],
   "source": [
    "print('La distacina es 2\"')\n",
    "print(\"Vamos al Carl's Jr.\")"
   ]
  },
  {
   "cell_type": "markdown",
   "metadata": {
    "slideshow": {
     "slide_type": "-"
    }
   },
   "source": [
    "###  <font color='navygray'>Variables</font>"
   ]
  },
  {
   "cell_type": "markdown",
   "metadata": {
    "slideshow": {
     "slide_type": "-"
    }
   },
   "source": [
    "En Python no es necesario declarar el tipo de variables que vamos a utilizar. El 99% de las veces, Python\n",
    "reconoce de la manera correcta el tipo de variable."
   ]
  },
  {
   "cell_type": "markdown",
   "metadata": {
    "slideshow": {
     "slide_type": "-"
    }
   },
   "source": [
    "Las variables más comunies en Python son:\n",
    "* str:  Texto\n",
    "* int:  Números enteros\n",
    "* float: Números flotantes\n",
    "* bool:  Booleano True o False"
   ]
  },
  {
   "cell_type": "markdown",
   "metadata": {
    "slideshow": {
     "slide_type": "-"
    }
   },
   "source": [
    "####  <font color='gray'>Ejemplo:</font>"
   ]
  },
  {
   "cell_type": "code",
   "execution_count": null,
   "metadata": {
    "slideshow": {
     "slide_type": "-"
    }
   },
   "outputs": [],
   "source": [
    "variable_texto = 'Hello World!'\n",
    "variable_numerica = 123\n",
    "variable_decimal = 123.1\n",
    "variable_boolean = True"
   ]
  },
  {
   "cell_type": "markdown",
   "metadata": {
    "slideshow": {
     "slide_type": "-"
    }
   },
   "source": [
    "###  <font color='navygray'>Función *\"type(  )\"*</font>"
   ]
  },
  {
   "cell_type": "markdown",
   "metadata": {
    "slideshow": {
     "slide_type": "-"
    }
   },
   "source": [
    "Para ver que tipo de variable es, utilizamos la función *\"type\"*."
   ]
  },
  {
   "cell_type": "code",
   "execution_count": null,
   "metadata": {
    "slideshow": {
     "slide_type": "-"
    }
   },
   "outputs": [],
   "source": [
    "type(variable_texto)"
   ]
  },
  {
   "cell_type": "code",
   "execution_count": null,
   "metadata": {
    "slideshow": {
     "slide_type": "-"
    }
   },
   "outputs": [],
   "source": [
    "type(variable_numerica)"
   ]
  },
  {
   "cell_type": "code",
   "execution_count": null,
   "metadata": {
    "slideshow": {
     "slide_type": "-"
    }
   },
   "outputs": [],
   "source": [
    "type(variable_decimal)"
   ]
  },
  {
   "cell_type": "code",
   "execution_count": null,
   "metadata": {
    "slideshow": {
     "slide_type": "-"
    }
   },
   "outputs": [],
   "source": [
    "type(variable_boolean)"
   ]
  },
  {
   "cell_type": "markdown",
   "metadata": {
    "slideshow": {
     "slide_type": "-"
    }
   },
   "source": [
    "También podemos imprimir variables con la función \"*print*\"."
   ]
  },
  {
   "cell_type": "code",
   "execution_count": null,
   "metadata": {
    "slideshow": {
     "slide_type": "-"
    }
   },
   "outputs": [],
   "source": [
    "print(variable_texto)\n",
    "print(variable_numerica)\n",
    "print(variable_decimal)\n",
    "print(variable_boolean)"
   ]
  },
  {
   "cell_type": "markdown",
   "metadata": {
    "slideshow": {
     "slide_type": "-"
    }
   },
   "source": [
    "Y en *Jupyter*, podemos simplemente ejecutar la celda con el nombre de la variable"
   ]
  },
  {
   "cell_type": "code",
   "execution_count": null,
   "metadata": {
    "slideshow": {
     "slide_type": "-"
    }
   },
   "outputs": [],
   "source": [
    "variable_1 = 12"
   ]
  },
  {
   "cell_type": "code",
   "execution_count": null,
   "metadata": {
    "slideshow": {
     "slide_type": "-"
    }
   },
   "outputs": [],
   "source": [
    "print(variable_1)"
   ]
  },
  {
   "cell_type": "code",
   "execution_count": null,
   "metadata": {
    "slideshow": {
     "slide_type": "-"
    }
   },
   "outputs": [],
   "source": [
    "variable_1"
   ]
  },
  {
   "cell_type": "markdown",
   "metadata": {
    "slideshow": {
     "slide_type": "-"
    }
   },
   "source": [
    "####  <font color='gray'>Recomendaciones para nombrar variables</font>"
   ]
  },
  {
   "cell_type": "markdown",
   "metadata": {
    "slideshow": {
     "slide_type": "-"
    }
   },
   "source": [
    "*  Los nombres de las variables, solo pueden contener letras, números y guión bajo '_'.\n",
    "*  No se puede empezar con número.\n",
    "*  No se puede usar espacios.  En lugar de espacio utiliza '_'.\n",
    "*  No utilizar como nombres de variables, funciones de python\n",
    "*  El nombre de la variable debe de ser corto pero descriptivo"
   ]
  },
  {
   "cell_type": "markdown",
   "metadata": {
    "slideshow": {
     "slide_type": "-"
    }
   },
   "source": [
    "###  <font color='navygray'>Concatenar</font>"
   ]
  },
  {
   "cell_type": "markdown",
   "metadata": {
    "slideshow": {
     "slide_type": "-"
    }
   },
   "source": [
    "En excel, cuando queremos desplegar información de dos celdas diferentes utilizamos \"&\" para concatenar esas dos celdas."
   ]
  },
  {
   "cell_type": "markdown",
   "metadata": {
    "slideshow": {
     "slide_type": "-"
    }
   },
   "source": [
    "En Python, utilizamos \"+\" o \" , \"  .<br>"
   ]
  },
  {
   "cell_type": "markdown",
   "metadata": {
    "slideshow": {
     "slide_type": "-"
    }
   },
   "source": [
    "Es imporante tomar en cuenta que no genera espacio entre una parte y la otra, y todos los caracteres deben de ser del mimo tipo."
   ]
  },
  {
   "cell_type": "code",
   "execution_count": null,
   "metadata": {
    "slideshow": {
     "slide_type": "-"
    }
   },
   "outputs": [],
   "source": [
    "'Esto no' + 'se ve bien'  "
   ]
  },
  {
   "cell_type": "code",
   "execution_count": null,
   "metadata": {
    "slideshow": {
     "slide_type": "-"
    }
   },
   "outputs": [],
   "source": [
    "'Esto sí ' + 'se ve bien'"
   ]
  },
  {
   "cell_type": "markdown",
   "metadata": {},
   "source": [
    "'Uno dos tres ' + 4"
   ]
  },
  {
   "cell_type": "markdown",
   "metadata": {},
   "source": [
    "Python no permite concatenar texto con numeros, por lo que tenemos que siempre cambiar de manera local el numero a texto, esto lo logramos de la siguiente manera:"
   ]
  },
  {
   "cell_type": "code",
   "execution_count": null,
   "metadata": {},
   "outputs": [],
   "source": [
    "'Uno dos tres ' + str(4)"
   ]
  },
  {
   "cell_type": "markdown",
   "metadata": {
    "slideshow": {
     "slide_type": "-"
    }
   },
   "source": [
    "###  <font color='navygray'>Inputs</font>"
   ]
  },
  {
   "cell_type": "markdown",
   "metadata": {
    "slideshow": {
     "slide_type": "-"
    }
   },
   "source": [
    "Todos los programas deben de alguna manera poder recibir información directa del usuario.  En Pytho, utilizamos la función \"*input*\"."
   ]
  },
  {
   "cell_type": "code",
   "execution_count": null,
   "metadata": {
    "slideshow": {
     "slide_type": "-"
    }
   },
   "outputs": [],
   "source": [
    "input('Como te llamas?: ')"
   ]
  },
  {
   "cell_type": "markdown",
   "metadata": {
    "slideshow": {
     "slide_type": "-"
    }
   },
   "source": [
    "En el ejemplo anterior, el input no se guardo en ningun lugar"
   ]
  },
  {
   "cell_type": "markdown",
   "metadata": {
    "slideshow": {
     "slide_type": "-"
    }
   },
   "source": [
    "Para guardar la información necesitamos utilizar una varibale de la siguiente manera:"
   ]
  },
  {
   "cell_type": "code",
   "execution_count": null,
   "metadata": {
    "slideshow": {
     "slide_type": "-"
    }
   },
   "outputs": [],
   "source": [
    "nombre = input('Como te llamas?: ')"
   ]
  },
  {
   "cell_type": "code",
   "execution_count": null,
   "metadata": {
    "slideshow": {
     "slide_type": "-"
    }
   },
   "outputs": [],
   "source": [
    "print('Hola ' + nombre)"
   ]
  },
  {
   "cell_type": "markdown",
   "metadata": {
    "slideshow": {
     "slide_type": "-"
    }
   },
   "source": [
    "Todo los inputs ingresados, Python los registra como STRINGS"
   ]
  },
  {
   "cell_type": "code",
   "execution_count": null,
   "metadata": {
    "slideshow": {
     "slide_type": "-"
    }
   },
   "outputs": [],
   "source": [
    "pregunta = input('Cuanto es 2 + 2?: ')"
   ]
  },
  {
   "cell_type": "code",
   "execution_count": null,
   "metadata": {
    "slideshow": {
     "slide_type": "-"
    }
   },
   "outputs": [],
   "source": [
    "type(pregunta)"
   ]
  },
  {
   "cell_type": "markdown",
   "metadata": {
    "slideshow": {
     "slide_type": "-"
    }
   },
   "source": [
    "Para hacer que la variable sea númerica, necesitamos interponer un int o float, segun el caso al input:"
   ]
  },
  {
   "cell_type": "code",
   "execution_count": null,
   "metadata": {},
   "outputs": [],
   "source": [
    "pregunta = int(input('Cuanto es 2 + 2?: '))"
   ]
  },
  {
   "cell_type": "code",
   "execution_count": null,
   "metadata": {},
   "outputs": [],
   "source": [
    "type(pregunta)"
   ]
  },
  {
   "cell_type": "code",
   "execution_count": null,
   "metadata": {},
   "outputs": [],
   "source": [
    "pregunta * 5"
   ]
  },
  {
   "cell_type": "markdown",
   "metadata": {},
   "source": [
    "Vamos a suponer que no sabemos que no sabemos que la función *input* tomas los valores como *str*.  Y multiplicamos de nueva cuenta la variable \"*numero*\" por 5."
   ]
  },
  {
   "cell_type": "code",
   "execution_count": null,
   "metadata": {},
   "outputs": [],
   "source": [
    "numero = str(numero)"
   ]
  },
  {
   "cell_type": "code",
   "execution_count": null,
   "metadata": {},
   "outputs": [],
   "source": [
    "type(numero)"
   ]
  },
  {
   "cell_type": "code",
   "execution_count": null,
   "metadata": {},
   "outputs": [],
   "source": [
    "numero * 5"
   ]
  },
  {
   "cell_type": "markdown",
   "metadata": {},
   "source": [
    "###  <font color='navygray'>Comentarios</font>"
   ]
  },
  {
   "cell_type": "markdown",
   "metadata": {},
   "source": [
    "Muchas veces es deseable relaizar algún comentario sobre la programación que se está haciendo.  Para comentar dento de la programación per se, utilizamos el simbolo \"#\".  Todo lo que esté a la derecha del \"#\", será reconocido como comentario y Python no pondrá atención en esa información."
   ]
  },
  {
   "cell_type": "code",
   "execution_count": null,
   "metadata": {},
   "outputs": [],
   "source": [
    "print('Hola')\n",
    "# Este es un comentario en una línea"
   ]
  },
  {
   "cell_type": "code",
   "execution_count": null,
   "metadata": {
    "scrolled": false
   },
   "outputs": [],
   "source": [
    "print('Adios') # también podemos comentar en la misma línea que el código!"
   ]
  },
  {
   "cell_type": "markdown",
   "metadata": {
    "slideshow": {
     "slide_type": "-"
    }
   },
   "source": [
    "## <font color='navygray'>Nuestro primer código en PYTHON:</font>\n",
    "Vamos a hacer un pequeño programa donde se le pregunta al usuario los siguientes datos:\n",
    "* Capital a invertir\n",
    "* Tasa simple a la que se invertirá el capital<br><br>"
   ]
  },
  {
   "cell_type": "markdown",
   "metadata": {
    "slideshow": {
     "slide_type": "-"
    }
   },
   "source": [
    "Con la información anterior calcularemos:\n",
    "* Interés simple generado en el periodo\n",
    "* Saldo final\n",
    "Desplegaremos el monto del interés generado y su saldo final:"
   ]
  },
  {
   "cell_type": "markdown",
   "metadata": {
    "slideshow": {
     "slide_type": "-"
    }
   },
   "source": [
    "Al final desplegaremos:\n",
    "* El interés generado en el periodo\n",
    "* El saldo final al finalizar el periodo"
   ]
  },
  {
   "cell_type": "code",
   "execution_count": 3,
   "metadata": {
    "slideshow": {
     "slide_type": "-"
    }
   },
   "outputs": [
    {
     "name": "stdout",
     "output_type": "stream",
     "text": [
      "Monto a ivertir: 100\n",
      "Tasa simple anual:  .1\n",
      "El interes generado en el periodo fue 10.0\n",
      "El saldo al final del periodo es de 110.0 pesos\n"
     ]
    }
   ],
   "source": [
    "inversion = float(input('Monto a ivertir: '))\n",
    "tasa = float(input('Tasa simple anual:  '))\n",
    "\n",
    "interes = inversion * tasa\n",
    "saldo_final = inversion + interes\n",
    "\n",
    "print('El interes generado en el periodo fue ' + str(interes))\n",
    "print('El saldo al final del periodo es de ' + str(saldo_final) + ' pesos')"
   ]
  },
  {
   "cell_type": "markdown",
   "metadata": {
    "slideshow": {
     "slide_type": "-"
    }
   },
   "source": [
    "## <font color='navygray'>Guardar más información en una variable</font>"
   ]
  },
  {
   "cell_type": "markdown",
   "metadata": {
    "slideshow": {
     "slide_type": "-"
    }
   },
   "source": [
    "Hasta el momento hemos guardado un solo set de información en una variable.  Pero también podemos guardar más de un set de información en una variable.  Para esto tenemos otros tres tipos de variables:\n",
    "* Listas\n",
    "* Tuplas\n",
    "* Diccionario"
   ]
  },
  {
   "cell_type": "markdown",
   "metadata": {},
   "source": [
    "###  <font color='gray'>Listas</font>"
   ]
  },
  {
   "cell_type": "markdown",
   "metadata": {},
   "source": [
    "Una lista es un grupo de \"items\" en un órden en particular.  Las listas pueden incluir 'strings', números, combinación de ambos, etc.  Las listas las definimos utilizando corchetes '\\[    \\]' y casa elemento de la lista está separado por comas."
   ]
  },
  {
   "cell_type": "code",
   "execution_count": null,
   "metadata": {},
   "outputs": [],
   "source": [
    "marcas_carros = ['TESLA', 'VW', 'BMW', 'AUDI', 'FORD', 'NISSAN']"
   ]
  },
  {
   "cell_type": "code",
   "execution_count": null,
   "metadata": {},
   "outputs": [],
   "source": [
    "marcas_carros"
   ]
  },
  {
   "cell_type": "code",
   "execution_count": null,
   "metadata": {},
   "outputs": [],
   "source": [
    "print(marcas_carros)"
   ]
  },
  {
   "cell_type": "markdown",
   "metadata": {},
   "source": [
    "Las listas empeizan a enumerarse a partir de cero (0), por lo tanto el segundo elemento de la lista está en el espacio 1 y así susesivamente para cada uno de los elementos de la lista.<br><br>\n",
    "\n",
    "#### Accesar a algun elemento de la lista"
   ]
  },
  {
   "cell_type": "code",
   "execution_count": null,
   "metadata": {},
   "outputs": [],
   "source": [
    "marcas_carros[0]"
   ]
  },
  {
   "cell_type": "code",
   "execution_count": null,
   "metadata": {},
   "outputs": [],
   "source": [
    "marcas_carros[2]"
   ]
  },
  {
   "cell_type": "code",
   "execution_count": null,
   "metadata": {},
   "outputs": [],
   "source": [
    "marcas_carros[-1]"
   ]
  },
  {
   "cell_type": "code",
   "execution_count": null,
   "metadata": {},
   "outputs": [],
   "source": [
    "marcas_carros[-3]"
   ]
  },
  {
   "cell_type": "markdown",
   "metadata": {},
   "source": [
    "#### Utilizar elementos de la lista"
   ]
  },
  {
   "cell_type": "code",
   "execution_count": null,
   "metadata": {},
   "outputs": [],
   "source": [
    "mensaje = 'Los carros ' + marcas_carros[0] + ' son eléctricos.'\n",
    "print(mensaje)"
   ]
  },
  {
   "cell_type": "markdown",
   "metadata": {},
   "source": [
    "#### Modificar elementos de la lista"
   ]
  },
  {
   "cell_type": "code",
   "execution_count": null,
   "metadata": {},
   "outputs": [],
   "source": [
    "marcas_carros"
   ]
  },
  {
   "cell_type": "code",
   "execution_count": null,
   "metadata": {},
   "outputs": [],
   "source": [
    "marcas_carros[-2] = 'HONDA'\n",
    "marcas_carros"
   ]
  },
  {
   "cell_type": "markdown",
   "metadata": {},
   "source": [
    "#### Agregar elementos a la lista:  '.append(  )'"
   ]
  },
  {
   "cell_type": "markdown",
   "metadata": {},
   "source": [
    "El método '.append()', es muy útil para crear tablas de manera dinámica."
   ]
  },
  {
   "cell_type": "code",
   "execution_count": null,
   "metadata": {},
   "outputs": [],
   "source": [
    "marcas_carros.append('TOYOTA')"
   ]
  },
  {
   "cell_type": "code",
   "execution_count": null,
   "metadata": {},
   "outputs": [],
   "source": [
    "marcas_carros"
   ]
  },
  {
   "cell_type": "markdown",
   "metadata": {},
   "source": [
    "#### Agregar elementos a la lista:  '.insert(  )'"
   ]
  },
  {
   "cell_type": "markdown",
   "metadata": {},
   "source": [
    "Podemos insertar un elemento en cualquier espacio de la lista con el método .insert(  ).  El método libera un lugar en el espacio seleccionado:"
   ]
  },
  {
   "cell_type": "code",
   "execution_count": null,
   "metadata": {},
   "outputs": [],
   "source": [
    "marcas_carros.insert(1, 'FORD')\n",
    "marcas_carros"
   ]
  },
  {
   "cell_type": "markdown",
   "metadata": {},
   "source": [
    "#### Eliminar elementos a la lista:  del"
   ]
  },
  {
   "cell_type": "code",
   "execution_count": null,
   "metadata": {},
   "outputs": [],
   "source": [
    "del marcas_carros[1]\n",
    "marcas_carros"
   ]
  },
  {
   "cell_type": "markdown",
   "metadata": {},
   "source": []
  },
  {
   "cell_type": "markdown",
   "metadata": {},
   "source": [
    "#### EJERCICIO:\n",
    "1. Si pudieras invitar a cuatro personajes (vivos o muertos) a quien escogerias?  Crea una lista con los cuatro personajes.\n",
    "2. Usando la lista, utiliza \"print\" para mandarles una invitación personal a cada uno de los personajes\n",
    "3. Utiliza '.insert()', para agregar a un invitado y que ocupe el primer espacio de la lista\n",
    "4. Utiliza '.append()', para agregar a un invitado en el último lugar de la lista\n",
    "5. Vuelve a mandarle una invitación a todos los miemenbros de la listra\n"
   ]
  },
  {
   "cell_type": "markdown",
   "metadata": {},
   "source": [
    "#### .sort(  ):  Arreglar la lista de manera asendente "
   ]
  },
  {
   "cell_type": "code",
   "execution_count": null,
   "metadata": {},
   "outputs": [],
   "source": [
    "print(marcas_carros)\n",
    "marcas_carros.sort()\n",
    "print(marcas_carros)"
   ]
  },
  {
   "cell_type": "markdown",
   "metadata": {},
   "source": [
    "#### .sort(reverse = True):  Arreglar la lista de manera desendente "
   ]
  },
  {
   "cell_type": "code",
   "execution_count": null,
   "metadata": {},
   "outputs": [],
   "source": [
    "marcas_carros.sort(reverse=True)\n",
    "print(marcas_carros)"
   ]
  },
  {
   "cell_type": "markdown",
   "metadata": {},
   "source": [
    "#### .sorted(  ):  Arreglar la lista de manera temporal"
   ]
  },
  {
   "cell_type": "code",
   "execution_count": null,
   "metadata": {},
   "outputs": [],
   "source": [
    "marcas_carros= ['TESLA', 'VW', 'BMW', 'AUDI', 'FORD', 'NISSAN']"
   ]
  },
  {
   "cell_type": "code",
   "execution_count": null,
   "metadata": {},
   "outputs": [],
   "source": [
    "print('Lista arreglada de manera temporal:')\n",
    "print(sorted(marcas_carros))\n",
    "print('\\nLista original')\n",
    "print(marcas_carros)"
   ]
  },
  {
   "cell_type": "markdown",
   "metadata": {},
   "source": [
    "En la tercer línea escribimos \"print('\\nLista original')\".  \"\\n\" le dice a Python que inserte una línea nueva antes de empezar el texto"
   ]
  },
  {
   "cell_type": "code",
   "execution_count": null,
   "metadata": {},
   "outputs": [],
   "source": [
    "print('Lista arreglada de manera temporal de manera desendiente:')\n",
    "print(sorted(marcas_carros, reverse= True))\n",
    "print('\\nLista original')\n",
    "print(marcas_carros)"
   ]
  },
  {
   "cell_type": "markdown",
   "metadata": {},
   "source": [
    "#### \"Slicing\" la lista"
   ]
  },
  {
   "cell_type": "markdown",
   "metadata": {},
   "source": [
    "Para \"partir\" la lista, especificamos el index del primer y último elemento de nuestro interés.  Python no toma en cuenta el último elemento que definimos.  Si queremos partir una lista en los primeros 3 elementos, necesitamos solicitar los index del 0 al 3 y nos arrojaría los elementos 0, 1 y 2."
   ]
  },
  {
   "cell_type": "code",
   "execution_count": null,
   "metadata": {},
   "outputs": [],
   "source": [
    "marcas_carros[0:3]"
   ]
  },
  {
   "cell_type": "markdown",
   "metadata": {},
   "source": [
    "Si queremos el 2do, 3er y 4to elemento de una lista:"
   ]
  },
  {
   "cell_type": "code",
   "execution_count": null,
   "metadata": {},
   "outputs": [],
   "source": [
    "marcas_carros"
   ]
  },
  {
   "cell_type": "code",
   "execution_count": null,
   "metadata": {},
   "outputs": [],
   "source": [
    "marcas_carros[1:4]"
   ]
  },
  {
   "cell_type": "markdown",
   "metadata": {},
   "source": [
    "Si al momento de hacer un \"slide\", omitimos el primer elemento '\\[ :n \\]', Python empieza en automático al inicio de la lista"
   ]
  },
  {
   "cell_type": "code",
   "execution_count": null,
   "metadata": {
    "scrolled": true
   },
   "outputs": [],
   "source": [
    "marcas_carros[:3]"
   ]
  },
  {
   "cell_type": "markdown",
   "metadata": {},
   "source": [
    "Algo similar sucede al omitir el segundo elemento del 'slide', pero ahora en automática termina en el último elemento de la lista"
   ]
  },
  {
   "cell_type": "code",
   "execution_count": null,
   "metadata": {},
   "outputs": [],
   "source": [
    "marcas_carros[3:]"
   ]
  },
  {
   "cell_type": "code",
   "execution_count": null,
   "metadata": {},
   "outputs": [],
   "source": [
    "marcas_carros[-3:]"
   ]
  },
  {
   "cell_type": "markdown",
   "metadata": {},
   "source": [
    "#### len( ):  Longitud de la lista'"
   ]
  },
  {
   "cell_type": "markdown",
   "metadata": {},
   "source": [
    "En algunas situaciones nos será importante saber la longitud de la lista:"
   ]
  },
  {
   "cell_type": "code",
   "execution_count": null,
   "metadata": {},
   "outputs": [],
   "source": [
    "len(marcas_carros)"
   ]
  },
  {
   "cell_type": "code",
   "execution_count": null,
   "metadata": {},
   "outputs": [],
   "source": [
    "numero_carros = len(marcas_carros)\n",
    "print(numero_carros)"
   ]
  },
  {
   "cell_type": "markdown",
   "metadata": {},
   "source": [
    "###  <font color='gray'>Función '.range( )'</font>"
   ]
  },
  {
   "cell_type": "markdown",
   "metadata": {},
   "source": [
    "'.range( )' nos crea una lista númerica.<br><br>\n",
    "Cuando solo ingresamos un parámetro, Python interpreta como generar una lista del 0 al número anterior al del parámetro."
   ]
  },
  {
   "cell_type": "code",
   "execution_count": null,
   "metadata": {
    "scrolled": true
   },
   "outputs": [],
   "source": [
    "range(10)"
   ]
  },
  {
   "cell_type": "code",
   "execution_count": null,
   "metadata": {},
   "outputs": [],
   "source": [
    "range(10)"
   ]
  },
  {
   "cell_type": "markdown",
   "metadata": {},
   "source": [
    "Para visualizar la lista es necesario anteponer la funaicón 'list( )"
   ]
  },
  {
   "cell_type": "code",
   "execution_count": null,
   "metadata": {
    "scrolled": true
   },
   "outputs": [],
   "source": [
    "list(range(10))"
   ]
  },
  {
   "cell_type": "markdown",
   "metadata": {},
   "source": [
    "También podemos limitar el inico, fin y los pasos incrementales para crear el rangoL  'range(valor inicial, valor final, incremento )'"
   ]
  },
  {
   "cell_type": "code",
   "execution_count": null,
   "metadata": {},
   "outputs": [],
   "source": [
    "list(range(0, 21, 3))"
   ]
  },
  {
   "cell_type": "code",
   "execution_count": null,
   "metadata": {},
   "outputs": [],
   "source": [
    "list(range(0, 10, 2))"
   ]
  },
  {
   "cell_type": "code",
   "execution_count": null,
   "metadata": {
    "scrolled": true
   },
   "outputs": [],
   "source": [
    "list(range(10, 0, -1))"
   ]
  },
  {
   "cell_type": "code",
   "execution_count": null,
   "metadata": {},
   "outputs": [],
   "source": [
    "cuenta_regresiva = list(range(10, 0, -1))"
   ]
  },
  {
   "cell_type": "code",
   "execution_count": null,
   "metadata": {
    "scrolled": true
   },
   "outputs": [],
   "source": [
    "cuenta_regresiva"
   ]
  },
  {
   "cell_type": "markdown",
   "metadata": {},
   "source": [
    "###  <font color='gray'>For Loops</font>"
   ]
  },
  {
   "cell_type": "markdown",
   "metadata": {},
   "source": [
    "Cuando queremos hacer la misma operación un determinado número de veces, podemos utilzar 'for loop'.  Este concepto es de suma importancia, por que es la manera que automatizamos actividades de la computadora.<br><br>\n",
    "\n",
    "A esto se le llama \"iterating\" o iterando:<br><br>\n",
    "*for un_valor in listado_de_valores:<br>\n",
    "....haz algo*"
   ]
  },
  {
   "cell_type": "code",
   "execution_count": null,
   "metadata": {},
   "outputs": [],
   "source": [
    "for marca in marcas_carros:\n",
    "    print('Los ' + marca + ', no los venden en la luna')"
   ]
  },
  {
   "cell_type": "code",
   "execution_count": null,
   "metadata": {},
   "outputs": [],
   "source": [
    "for marca in marcas_carros:\n",
    "    print('Los ' + marca + ', no los venden en la luna')\n",
    "\n",
    "print('\\nAlguna marca vende carros en la luna?')"
   ]
  },
  {
   "cell_type": "markdown",
   "metadata": {},
   "source": [
    "#### \"Slicing\" la lista"
   ]
  },
  {
   "cell_type": "code",
   "execution_count": null,
   "metadata": {},
   "outputs": [],
   "source": [
    "for marca in marcas_carros[:3]:\n",
    "    print(marca)\n"
   ]
  },
  {
   "cell_type": "code",
   "execution_count": null,
   "metadata": {},
   "outputs": [],
   "source": [
    "for i in range(10,21):\n",
    "    print(i)"
   ]
  },
  {
   "cell_type": "code",
   "execution_count": null,
   "metadata": {},
   "outputs": [],
   "source": []
  },
  {
   "cell_type": "markdown",
   "metadata": {},
   "source": [
    "###  <font color='gray'>Tuplas</font>"
   ]
  },
  {
   "cell_type": "markdown",
   "metadata": {},
   "source": [
    "Las tuplas ('tuple'), son listas de Python que una vez declaradas no se pueden editar.  Las tuplas se declaran utilizando ( ) en lugar de \\[  \\].  Toda la lógica de las listas, aplica para las tuplas."
   ]
  },
  {
   "cell_type": "code",
   "execution_count": null,
   "metadata": {},
   "outputs": [],
   "source": [
    "tupla = (1, 2, 3)"
   ]
  },
  {
   "cell_type": "code",
   "execution_count": null,
   "metadata": {},
   "outputs": [],
   "source": [
    "type(tupla)"
   ]
  },
  {
   "cell_type": "code",
   "execution_count": null,
   "metadata": {},
   "outputs": [],
   "source": [
    "tupla[2]"
   ]
  },
  {
   "cell_type": "code",
   "execution_count": null,
   "metadata": {},
   "outputs": [],
   "source": [
    "for i in tupla:\n",
    "    print(i)"
   ]
  },
  {
   "cell_type": "markdown",
   "metadata": {},
   "source": [
    "La única manera de \"editar\" una tupla, es sobreescribiendo su valor."
   ]
  },
  {
   "cell_type": "code",
   "execution_count": null,
   "metadata": {},
   "outputs": [],
   "source": [
    "tupla"
   ]
  },
  {
   "cell_type": "code",
   "execution_count": null,
   "metadata": {},
   "outputs": [],
   "source": [
    "tupla = (8, 9,110)"
   ]
  },
  {
   "cell_type": "code",
   "execution_count": null,
   "metadata": {},
   "outputs": [],
   "source": [
    "tupla"
   ]
  },
  {
   "cell_type": "markdown",
   "metadata": {},
   "source": [
    "###  <font color='gray'>IF's</font>"
   ]
  },
  {
   "cell_type": "markdown",
   "metadata": {},
   "source": [
    "Todos estamos familiarizados con los \"IF\" de Excel.  Funcionan para examinar una serie de condiciones y evaluar si se cumplen las condiciones o no, para responder de acuerdo a las respuestas.  Python utiliza la misma lógica con los IFs<br><br>\n",
    "En python las condiciones se evaluan así:\n",
    "* Iguladad: ==\n",
    "* Mayor que:  >\n",
    "* Mayor igual:  >=\n",
    "* Menor que: <\n",
    "* Menor igual: <=\n",
    "* Desigualdad: !=\n",
    "\n",
    "Vamos a empezar con un ejemplo sencillo:  de la lista marcas_carros, vamos a evaluar cual marca produce unicamente carros eléctricos."
   ]
  },
  {
   "cell_type": "code",
   "execution_count": null,
   "metadata": {},
   "outputs": [],
   "source": [
    "for marca in marcas_carros:\n",
    "    if marca == 'TESLA':\n",
    "        print(marca + ', produce unicamente carros eléctricos')\n",
    "        1\n",
    "        1\n",
    "        1\n",
    "        1\n",
    "        1\n",
    "        \n",
    "    else:\n",
    "        print(marca + ', produce carros de combustión')"
   ]
  },
  {
   "cell_type": "markdown",
   "metadata": {},
   "source": [
    "Podemos evaluar \"n\" veces, utilizando \"If... elif... else\""
   ]
  },
  {
   "cell_type": "code",
   "execution_count": null,
   "metadata": {},
   "outputs": [],
   "source": [
    "for marca in marcas_carros:\n",
    "    if marca == 'TESLA':\n",
    "        print(marca + ', produce unicamente carros eléctricos')\n",
    "    elif marca =='BMW':\n",
    "        print(marca + ', produce carros de combustión y carros eléctricos')\n",
    "    else:\n",
    "        print(marca + '. produce unicammente coaaros de combustión')"
   ]
  },
  {
   "cell_type": "markdown",
   "metadata": {},
   "source": [
    "A las evaluaciones le podemos utilizar con \"and\" y \"or\":\n",
    "* And:  En este punto las dos condiciones se deben de cumplir\n",
    "* Or: Solo una de las condiciones se debe de cumplir"
   ]
  },
  {
   "cell_type": "code",
   "execution_count": null,
   "metadata": {},
   "outputs": [],
   "source": [
    "for marca in marcas_carros:\n",
    "    if marca == 'TESLA':\n",
    "        print(marca + ', produce unicamente carros eléctricos')\n",
    "    elif marca =='BMW' or marca =='NISSAN':\n",
    "        print(marca + ', produce carros de combustión y carros eléctricos')\n",
    "    else:\n",
    "        print(marca + ', produce carros de combustión')"
   ]
  },
  {
   "cell_type": "markdown",
   "metadata": {},
   "source": [
    "# FIN DEL MODULO \"01 INTRODUCCION A PYTHON\""
   ]
  }
 ],
 "metadata": {
  "celltoolbar": "Slideshow",
  "kernelspec": {
   "display_name": "Python 3",
   "language": "python",
   "name": "python3"
  },
  "language_info": {
   "codemirror_mode": {
    "name": "ipython",
    "version": 3
   },
   "file_extension": ".py",
   "mimetype": "text/x-python",
   "name": "python",
   "nbconvert_exporter": "python",
   "pygments_lexer": "ipython3",
   "version": "3.9.1"
  }
 },
 "nbformat": 4,
 "nbformat_minor": 2
}
